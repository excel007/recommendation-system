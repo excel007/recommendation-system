{
  "nbformat": 4,
  "nbformat_minor": 0,
  "metadata": {
    "colab": {
      "name": "workshop3.ipynb",
      "provenance": [],
      "collapsed_sections": []
    },
    "kernelspec": {
      "name": "python3",
      "display_name": "Python 3"
    },
    "language_info": {
      "name": "python"
    }
  },
  "cells": [
    {
      "cell_type": "markdown",
      "source": [
        "workshop 3 ระบบแนะนำภาพยนตร์"
      ],
      "metadata": {
        "id": "yVc6oBoLQd8t"
      }
    },
    {
      "cell_type": "markdown",
      "source": [
        "download data file \"*movie.csv*\" from [this](https://media.itpart.net/md/download/data-science/)"
      ],
      "metadata": {
        "id": "A7ILqZYfV7nj"
      }
    },
    {
      "cell_type": "code",
      "execution_count": null,
      "metadata": {
        "id": "3knuo-2aQZ5I"
      },
      "outputs": [],
      "source": [
        "import pandas as pd\n",
        "import numpy as np\n",
        "from sklearn.feature_extraction.text import CountVectorizer\n",
        "from sklearn.metrics.pairwise import cosine_similarity\n",
        "\n",
        "df = pd.read_csv(\"/content/movie.csv\")"
      ]
    },
    {
      "cell_type": "code",
      "source": [
        "df.shape"
      ],
      "metadata": {
        "colab": {
          "base_uri": "https://localhost:8080/"
        },
        "id": "pJqVi5iUVmWL",
        "outputId": "60eae4e7-e478-4796-d84b-58727739d2d0"
      },
      "execution_count": null,
      "outputs": [
        {
          "output_type": "execute_result",
          "data": {
            "text/plain": [
              "(4803, 24)"
            ]
          },
          "metadata": {},
          "execution_count": 4
        }
      ]
    },
    {
      "cell_type": "code",
      "source": [
        "df.head()"
      ],
      "metadata": {
        "colab": {
          "base_uri": "https://localhost:8080/",
          "height": 808
        },
        "id": "kZ3QTsSdVr2P",
        "outputId": "694eae29-6144-4419-a771-b81cac27f7dc"
      },
      "execution_count": null,
      "outputs": [
        {
          "output_type": "execute_result",
          "data": {
            "text/html": [
              "\n",
              "  <div id=\"df-f843f702-d53f-4b61-9630-f47c884a39f7\">\n",
              "    <div class=\"colab-df-container\">\n",
              "      <div>\n",
              "<style scoped>\n",
              "    .dataframe tbody tr th:only-of-type {\n",
              "        vertical-align: middle;\n",
              "    }\n",
              "\n",
              "    .dataframe tbody tr th {\n",
              "        vertical-align: top;\n",
              "    }\n",
              "\n",
              "    .dataframe thead th {\n",
              "        text-align: right;\n",
              "    }\n",
              "</style>\n",
              "<table border=\"1\" class=\"dataframe\">\n",
              "  <thead>\n",
              "    <tr style=\"text-align: right;\">\n",
              "      <th></th>\n",
              "      <th>index</th>\n",
              "      <th>budget</th>\n",
              "      <th>genres</th>\n",
              "      <th>homepage</th>\n",
              "      <th>id</th>\n",
              "      <th>keywords</th>\n",
              "      <th>original_language</th>\n",
              "      <th>original_title</th>\n",
              "      <th>overview</th>\n",
              "      <th>popularity</th>\n",
              "      <th>production_companies</th>\n",
              "      <th>production_countries</th>\n",
              "      <th>release_date</th>\n",
              "      <th>revenue</th>\n",
              "      <th>runtime</th>\n",
              "      <th>spoken_languages</th>\n",
              "      <th>status</th>\n",
              "      <th>tagline</th>\n",
              "      <th>title</th>\n",
              "      <th>vote_average</th>\n",
              "      <th>vote_count</th>\n",
              "      <th>cast</th>\n",
              "      <th>crew</th>\n",
              "      <th>director</th>\n",
              "    </tr>\n",
              "  </thead>\n",
              "  <tbody>\n",
              "    <tr>\n",
              "      <th>0</th>\n",
              "      <td>0</td>\n",
              "      <td>237000000</td>\n",
              "      <td>Action Adventure Fantasy Science Fiction</td>\n",
              "      <td>http://www.avatarmovie.com/</td>\n",
              "      <td>19995</td>\n",
              "      <td>culture clash future space war space colony so...</td>\n",
              "      <td>en</td>\n",
              "      <td>Avatar</td>\n",
              "      <td>In the 22nd century, a paraplegic Marine is di...</td>\n",
              "      <td>150.437577</td>\n",
              "      <td>[{\"name\": \"Ingenious Film Partners\", \"id\": 289...</td>\n",
              "      <td>[{\"iso_3166_1\": \"US\", \"name\": \"United States o...</td>\n",
              "      <td>2009-12-10</td>\n",
              "      <td>2787965087</td>\n",
              "      <td>162.0</td>\n",
              "      <td>[{\"iso_639_1\": \"en\", \"name\": \"English\"}, {\"iso...</td>\n",
              "      <td>Released</td>\n",
              "      <td>Enter the World of Pandora.</td>\n",
              "      <td>Avatar</td>\n",
              "      <td>7.2</td>\n",
              "      <td>11800</td>\n",
              "      <td>Sam Worthington Zoe Saldana Sigourney Weaver S...</td>\n",
              "      <td>[{'name': 'Stephen E. Rivkin', 'gender': 0, 'd...</td>\n",
              "      <td>James Cameron</td>\n",
              "    </tr>\n",
              "    <tr>\n",
              "      <th>1</th>\n",
              "      <td>1</td>\n",
              "      <td>300000000</td>\n",
              "      <td>Adventure Fantasy Action</td>\n",
              "      <td>http://disney.go.com/disneypictures/pirates/</td>\n",
              "      <td>285</td>\n",
              "      <td>ocean drug abuse exotic island east india trad...</td>\n",
              "      <td>en</td>\n",
              "      <td>Pirates of the Caribbean: At World's End</td>\n",
              "      <td>Captain Barbossa, long believed to be dead, ha...</td>\n",
              "      <td>139.082615</td>\n",
              "      <td>[{\"name\": \"Walt Disney Pictures\", \"id\": 2}, {\"...</td>\n",
              "      <td>[{\"iso_3166_1\": \"US\", \"name\": \"United States o...</td>\n",
              "      <td>2007-05-19</td>\n",
              "      <td>961000000</td>\n",
              "      <td>169.0</td>\n",
              "      <td>[{\"iso_639_1\": \"en\", \"name\": \"English\"}]</td>\n",
              "      <td>Released</td>\n",
              "      <td>At the end of the world, the adventure begins.</td>\n",
              "      <td>Pirates of the Caribbean: At World's End</td>\n",
              "      <td>6.9</td>\n",
              "      <td>4500</td>\n",
              "      <td>Johnny Depp Orlando Bloom Keira Knightley Stel...</td>\n",
              "      <td>[{'name': 'Dariusz Wolski', 'gender': 2, 'depa...</td>\n",
              "      <td>Gore Verbinski</td>\n",
              "    </tr>\n",
              "    <tr>\n",
              "      <th>2</th>\n",
              "      <td>2</td>\n",
              "      <td>245000000</td>\n",
              "      <td>Action Adventure Crime</td>\n",
              "      <td>http://www.sonypictures.com/movies/spectre/</td>\n",
              "      <td>206647</td>\n",
              "      <td>spy based on novel secret agent sequel mi6</td>\n",
              "      <td>en</td>\n",
              "      <td>Spectre</td>\n",
              "      <td>A cryptic message from Bond’s past sends him o...</td>\n",
              "      <td>107.376788</td>\n",
              "      <td>[{\"name\": \"Columbia Pictures\", \"id\": 5}, {\"nam...</td>\n",
              "      <td>[{\"iso_3166_1\": \"GB\", \"name\": \"United Kingdom\"...</td>\n",
              "      <td>2015-10-26</td>\n",
              "      <td>880674609</td>\n",
              "      <td>148.0</td>\n",
              "      <td>[{\"iso_639_1\": \"fr\", \"name\": \"Fran\\u00e7ais\"},...</td>\n",
              "      <td>Released</td>\n",
              "      <td>A Plan No One Escapes</td>\n",
              "      <td>Spectre</td>\n",
              "      <td>6.3</td>\n",
              "      <td>4466</td>\n",
              "      <td>Daniel Craig Christoph Waltz L\\u00e9a Seydoux ...</td>\n",
              "      <td>[{'name': 'Thomas Newman', 'gender': 2, 'depar...</td>\n",
              "      <td>Sam Mendes</td>\n",
              "    </tr>\n",
              "    <tr>\n",
              "      <th>3</th>\n",
              "      <td>3</td>\n",
              "      <td>250000000</td>\n",
              "      <td>Action Crime Drama Thriller</td>\n",
              "      <td>http://www.thedarkknightrises.com/</td>\n",
              "      <td>49026</td>\n",
              "      <td>dc comics crime fighter terrorist secret ident...</td>\n",
              "      <td>en</td>\n",
              "      <td>The Dark Knight Rises</td>\n",
              "      <td>Following the death of District Attorney Harve...</td>\n",
              "      <td>112.312950</td>\n",
              "      <td>[{\"name\": \"Legendary Pictures\", \"id\": 923}, {\"...</td>\n",
              "      <td>[{\"iso_3166_1\": \"US\", \"name\": \"United States o...</td>\n",
              "      <td>2012-07-16</td>\n",
              "      <td>1084939099</td>\n",
              "      <td>165.0</td>\n",
              "      <td>[{\"iso_639_1\": \"en\", \"name\": \"English\"}]</td>\n",
              "      <td>Released</td>\n",
              "      <td>The Legend Ends</td>\n",
              "      <td>The Dark Knight Rises</td>\n",
              "      <td>7.6</td>\n",
              "      <td>9106</td>\n",
              "      <td>Christian Bale Michael Caine Gary Oldman Anne ...</td>\n",
              "      <td>[{'name': 'Hans Zimmer', 'gender': 2, 'departm...</td>\n",
              "      <td>Christopher Nolan</td>\n",
              "    </tr>\n",
              "    <tr>\n",
              "      <th>4</th>\n",
              "      <td>4</td>\n",
              "      <td>260000000</td>\n",
              "      <td>Action Adventure Science Fiction</td>\n",
              "      <td>http://movies.disney.com/john-carter</td>\n",
              "      <td>49529</td>\n",
              "      <td>based on novel mars medallion space travel pri...</td>\n",
              "      <td>en</td>\n",
              "      <td>John Carter</td>\n",
              "      <td>John Carter is a war-weary, former military ca...</td>\n",
              "      <td>43.926995</td>\n",
              "      <td>[{\"name\": \"Walt Disney Pictures\", \"id\": 2}]</td>\n",
              "      <td>[{\"iso_3166_1\": \"US\", \"name\": \"United States o...</td>\n",
              "      <td>2012-03-07</td>\n",
              "      <td>284139100</td>\n",
              "      <td>132.0</td>\n",
              "      <td>[{\"iso_639_1\": \"en\", \"name\": \"English\"}]</td>\n",
              "      <td>Released</td>\n",
              "      <td>Lost in our world, found in another.</td>\n",
              "      <td>John Carter</td>\n",
              "      <td>6.1</td>\n",
              "      <td>2124</td>\n",
              "      <td>Taylor Kitsch Lynn Collins Samantha Morton Wil...</td>\n",
              "      <td>[{'name': 'Andrew Stanton', 'gender': 2, 'depa...</td>\n",
              "      <td>Andrew Stanton</td>\n",
              "    </tr>\n",
              "  </tbody>\n",
              "</table>\n",
              "</div>\n",
              "      <button class=\"colab-df-convert\" onclick=\"convertToInteractive('df-f843f702-d53f-4b61-9630-f47c884a39f7')\"\n",
              "              title=\"Convert this dataframe to an interactive table.\"\n",
              "              style=\"display:none;\">\n",
              "        \n",
              "  <svg xmlns=\"http://www.w3.org/2000/svg\" height=\"24px\"viewBox=\"0 0 24 24\"\n",
              "       width=\"24px\">\n",
              "    <path d=\"M0 0h24v24H0V0z\" fill=\"none\"/>\n",
              "    <path d=\"M18.56 5.44l.94 2.06.94-2.06 2.06-.94-2.06-.94-.94-2.06-.94 2.06-2.06.94zm-11 1L8.5 8.5l.94-2.06 2.06-.94-2.06-.94L8.5 2.5l-.94 2.06-2.06.94zm10 10l.94 2.06.94-2.06 2.06-.94-2.06-.94-.94-2.06-.94 2.06-2.06.94z\"/><path d=\"M17.41 7.96l-1.37-1.37c-.4-.4-.92-.59-1.43-.59-.52 0-1.04.2-1.43.59L10.3 9.45l-7.72 7.72c-.78.78-.78 2.05 0 2.83L4 21.41c.39.39.9.59 1.41.59.51 0 1.02-.2 1.41-.59l7.78-7.78 2.81-2.81c.8-.78.8-2.07 0-2.86zM5.41 20L4 18.59l7.72-7.72 1.47 1.35L5.41 20z\"/>\n",
              "  </svg>\n",
              "      </button>\n",
              "      \n",
              "  <style>\n",
              "    .colab-df-container {\n",
              "      display:flex;\n",
              "      flex-wrap:wrap;\n",
              "      gap: 12px;\n",
              "    }\n",
              "\n",
              "    .colab-df-convert {\n",
              "      background-color: #E8F0FE;\n",
              "      border: none;\n",
              "      border-radius: 50%;\n",
              "      cursor: pointer;\n",
              "      display: none;\n",
              "      fill: #1967D2;\n",
              "      height: 32px;\n",
              "      padding: 0 0 0 0;\n",
              "      width: 32px;\n",
              "    }\n",
              "\n",
              "    .colab-df-convert:hover {\n",
              "      background-color: #E2EBFA;\n",
              "      box-shadow: 0px 1px 2px rgba(60, 64, 67, 0.3), 0px 1px 3px 1px rgba(60, 64, 67, 0.15);\n",
              "      fill: #174EA6;\n",
              "    }\n",
              "\n",
              "    [theme=dark] .colab-df-convert {\n",
              "      background-color: #3B4455;\n",
              "      fill: #D2E3FC;\n",
              "    }\n",
              "\n",
              "    [theme=dark] .colab-df-convert:hover {\n",
              "      background-color: #434B5C;\n",
              "      box-shadow: 0px 1px 3px 1px rgba(0, 0, 0, 0.15);\n",
              "      filter: drop-shadow(0px 1px 2px rgba(0, 0, 0, 0.3));\n",
              "      fill: #FFFFFF;\n",
              "    }\n",
              "  </style>\n",
              "\n",
              "      <script>\n",
              "        const buttonEl =\n",
              "          document.querySelector('#df-f843f702-d53f-4b61-9630-f47c884a39f7 button.colab-df-convert');\n",
              "        buttonEl.style.display =\n",
              "          google.colab.kernel.accessAllowed ? 'block' : 'none';\n",
              "\n",
              "        async function convertToInteractive(key) {\n",
              "          const element = document.querySelector('#df-f843f702-d53f-4b61-9630-f47c884a39f7');\n",
              "          const dataTable =\n",
              "            await google.colab.kernel.invokeFunction('convertToInteractive',\n",
              "                                                     [key], {});\n",
              "          if (!dataTable) return;\n",
              "\n",
              "          const docLinkHtml = 'Like what you see? Visit the ' +\n",
              "            '<a target=\"_blank\" href=https://colab.research.google.com/notebooks/data_table.ipynb>data table notebook</a>'\n",
              "            + ' to learn more about interactive tables.';\n",
              "          element.innerHTML = '';\n",
              "          dataTable['output_type'] = 'display_data';\n",
              "          await google.colab.output.renderOutput(dataTable, element);\n",
              "          const docLink = document.createElement('div');\n",
              "          docLink.innerHTML = docLinkHtml;\n",
              "          element.appendChild(docLink);\n",
              "        }\n",
              "      </script>\n",
              "    </div>\n",
              "  </div>\n",
              "  "
            ],
            "text/plain": [
              "   index  ...           director\n",
              "0      0  ...      James Cameron\n",
              "1      1  ...     Gore Verbinski\n",
              "2      2  ...         Sam Mendes\n",
              "3      3  ...  Christopher Nolan\n",
              "4      4  ...     Andrew Stanton\n",
              "\n",
              "[5 rows x 24 columns]"
            ]
          },
          "metadata": {},
          "execution_count": 5
        }
      ]
    },
    {
      "cell_type": "code",
      "source": [
        "df.isnull().sum()"
      ],
      "metadata": {
        "colab": {
          "base_uri": "https://localhost:8080/"
        },
        "id": "0Pfq6K8AUNIu",
        "outputId": "fae05d31-f0cf-4c83-9f8a-fcc8cd64a60b"
      },
      "execution_count": null,
      "outputs": [
        {
          "output_type": "execute_result",
          "data": {
            "text/plain": [
              "index                      0\n",
              "budget                     0\n",
              "genres                    28\n",
              "homepage                3091\n",
              "id                         0\n",
              "keywords                 412\n",
              "original_language          0\n",
              "original_title             0\n",
              "overview                   3\n",
              "popularity                 0\n",
              "production_companies       0\n",
              "production_countries       0\n",
              "release_date               1\n",
              "revenue                    0\n",
              "runtime                    2\n",
              "spoken_languages           0\n",
              "status                     0\n",
              "tagline                  844\n",
              "title                      0\n",
              "vote_average               0\n",
              "vote_count                 0\n",
              "cast                      43\n",
              "crew                       0\n",
              "director                  30\n",
              "dtype: int64"
            ]
          },
          "metadata": {},
          "execution_count": 6
        }
      ]
    },
    {
      "cell_type": "code",
      "source": [
        "df[df.title.str.contains('transformer',case=False)].title"
      ],
      "metadata": {
        "colab": {
          "base_uri": "https://localhost:8080/"
        },
        "id": "S8I09B8lbCuA",
        "outputId": "6c39ced1-f9c6-4cbb-da03-c6248adfc26c"
      },
      "execution_count": null,
      "outputs": [
        {
          "output_type": "execute_result",
          "data": {
            "text/plain": [
              "35     Transformers: Revenge of the Fallen\n",
              "36         Transformers: Age of Extinction\n",
              "52          Transformers: Dark of the Moon\n",
              "111                           Transformers\n",
              "Name: title, dtype: object"
            ]
          },
          "metadata": {},
          "execution_count": 9
        }
      ]
    },
    {
      "cell_type": "code",
      "source": [
        "df.iloc[111].overview"
      ],
      "metadata": {
        "colab": {
          "base_uri": "https://localhost:8080/",
          "height": 70
        },
        "id": "9IglUXiQb-5K",
        "outputId": "952c1aad-d60a-4b75-85d9-b12b55cfa98c"
      },
      "execution_count": null,
      "outputs": [
        {
          "output_type": "execute_result",
          "data": {
            "application/vnd.google.colaboratory.intrinsic+json": {
              "type": "string"
            },
            "text/plain": [
              "'Young teenager, Sam Witwicky becomes involved in the ancient struggle between two extraterrestrial factions of transforming robots – the heroic Autobots and the evil Decepticons. Sam holds the clue to unimaginable power and the Decepticons will stop at nothing to retrieve it.'"
            ]
          },
          "metadata": {},
          "execution_count": 10
        }
      ]
    },
    {
      "cell_type": "code",
      "source": [
        "df.iloc[111].keywords"
      ],
      "metadata": {
        "colab": {
          "base_uri": "https://localhost:8080/",
          "height": 35
        },
        "id": "skcECve4cgqW",
        "outputId": "66347bec-a0f6-4d7e-b739-5cc57e349e85"
      },
      "execution_count": null,
      "outputs": [
        {
          "output_type": "execute_result",
          "data": {
            "application/vnd.google.colaboratory.intrinsic+json": {
              "type": "string"
            },
            "text/plain": [
              "'destroy transformation alien based on toy transformers'"
            ]
          },
          "metadata": {},
          "execution_count": 11
        }
      ]
    },
    {
      "cell_type": "code",
      "source": [
        "ids = [35,36,52]\n",
        "for k in ids:\n",
        "  print(\"\\n\\t Titles \",df.iloc[k].title)\n",
        "  print(\"overview:\",df.iloc[k].overview)\n",
        "  print()\n",
        "  print(\"kwd:\",df.iloc[k].keywords)\n",
        "  print(\"----------------------\")"
      ],
      "metadata": {
        "colab": {
          "base_uri": "https://localhost:8080/"
        },
        "id": "40aC2-mCcjwX",
        "outputId": "79dc2e1f-6b22-411c-ac03-46f4b25cefe3"
      },
      "execution_count": null,
      "outputs": [
        {
          "output_type": "stream",
          "name": "stdout",
          "text": [
            "\n",
            "\t Titles  Transformers: Revenge of the Fallen\n",
            "overview: Sam Witwicky leaves the Autobots behind for a normal life. But when his mind is filled with cryptic symbols, the Decepticons target him and he is dragged back into the Transformers' war.\n",
            "\n",
            "kwd: egypt sun chaos symbol artifact\n",
            "----------------------\n",
            "\n",
            "\t Titles  Transformers: Age of Extinction\n",
            "overview: As humanity picks up the pieces, following the conclusion of \"Transformers: Dark of the Moon,\" Autobots and Decepticons have all but vanished from the face of the planet. However, a group of powerful, ingenious businessman and scientists attempt to learn from past Transformer incursions and push the boundaries of technology beyond what they can control - all while an ancient, powerful Transformer menace sets Earth in his cross-hairs.\n",
            "\n",
            "kwd: sequel alien transformers giant robot robot\n",
            "----------------------\n",
            "\n",
            "\t Titles  Transformers: Dark of the Moon\n",
            "overview: Sam Witwicky takes his first tenuous steps into adulthood while remaining a reluctant human ally of Autobot-leader Optimus Prime. The film centers around the space race between the USSR and the USA, suggesting there was a hidden Transformers role in it all that remains one of the planet's most dangerous secrets.\n",
            "\n",
            "kwd: moon spacecraft traitor bodyguard alien planet\n",
            "----------------------\n"
          ]
        }
      ]
    },
    {
      "cell_type": "code",
      "source": [
        "for k in df.columns:\n",
        "  print(k,\": \",df[k].iloc[111])\n",
        "  print('-----')"
      ],
      "metadata": {
        "colab": {
          "base_uri": "https://localhost:8080/"
        },
        "id": "85yrZMWeeFKP",
        "outputId": "9e1ca494-df03-4df7-c1b9-8edcca497aeb"
      },
      "execution_count": null,
      "outputs": [
        {
          "output_type": "stream",
          "name": "stdout",
          "text": [
            "index :  111\n",
            "-----\n",
            "budget :  150000000\n",
            "-----\n",
            "genres :  Adventure Science Fiction Action\n",
            "-----\n",
            "homepage :  http://www.transformersmovie.com/\n",
            "-----\n",
            "id :  1858\n",
            "-----\n",
            "keywords :  destroy transformation alien based on toy transformers\n",
            "-----\n",
            "original_language :  en\n",
            "-----\n",
            "original_title :  Transformers\n",
            "-----\n",
            "overview :  Young teenager, Sam Witwicky becomes involved in the ancient struggle between two extraterrestrial factions of transforming robots – the heroic Autobots and the evil Decepticons. Sam holds the clue to unimaginable power and the Decepticons will stop at nothing to retrieve it.\n",
            "-----\n",
            "popularity :  25.468493\n",
            "-----\n",
            "production_companies :  [{\"name\": \"Paramount Pictures\", \"id\": 4}, {\"name\": \"DreamWorks SKG\", \"id\": 27}, {\"name\": \"Amblin Entertainment\", \"id\": 56}, {\"name\": \"Di Bonaventura Pictures\", \"id\": 435}, {\"name\": \"Platinum Dunes\", \"id\": 2481}, {\"name\": \"thinkfilm\", \"id\": 12247}, {\"name\": \"SprocketHeads\", \"id\": 20011}, {\"name\": \"Hasbro Studios\", \"id\": 22826}, {\"name\": \"Revolution Sun Studios\", \"id\": 76043}]\n",
            "-----\n",
            "production_countries :  [{\"iso_3166_1\": \"US\", \"name\": \"United States of America\"}]\n",
            "-----\n",
            "release_date :  2007-06-27\n",
            "-----\n",
            "revenue :  709709780\n",
            "-----\n",
            "runtime :  144.0\n",
            "-----\n",
            "spoken_languages :  [{\"iso_639_1\": \"es\", \"name\": \"Espa\\u00f1ol\"}, {\"iso_639_1\": \"en\", \"name\": \"English\"}]\n",
            "-----\n",
            "status :  Released\n",
            "-----\n",
            "tagline :  Their war. Our world.\n",
            "-----\n",
            "title :  Transformers\n",
            "-----\n",
            "vote_average :  6.6\n",
            "-----\n",
            "vote_count :  4040\n",
            "-----\n",
            "cast :  Shia LaBeouf Josh Duhamel Megan Fox Rachael Taylor Tyrese Gibson\n",
            "-----\n",
            "crew :  [{'name': 'Steven Spielberg', 'gender': 2, 'department': 'Production', 'job': 'Executive Producer', 'credit_id': '52fe431bc3a36847f803aba9', 'id': 488}, {'name': 'Paul Rubell', 'gender': 2, 'department': 'Editing', 'job': 'Editor', 'credit_id': '52fe431bc3a36847f803ac31', 'id': 10816}, {'name': 'Michael Bay', 'gender': 2, 'department': 'Directing', 'job': 'Director', 'credit_id': '52fe431bc3a36847f803aba3', 'id': 865}, {'name': 'Michael Bay', 'gender': 2, 'department': 'Production', 'job': 'Executive Producer', 'credit_id': '551b9049c3a36819ed0008bd', 'id': 865}, {'name': 'Glen Scantlebury', 'gender': 2, 'department': 'Editing', 'job': 'Editor', 'credit_id': '52fe431bc3a36847f803ac37', 'id': 899}, {'name': 'Janet Hirshenson', 'gender': 1, 'department': 'Production', 'job': 'Casting', 'credit_id': '537f05130e0a2624b70044a1', 'id': 2874}, {'name': 'Don Murphy', 'gender': 2, 'department': 'Production', 'job': 'Producer', 'credit_id': '52fe431bc3a36847f803abb5', 'id': 3183}, {'name': 'Jane Jenkins', 'gender': 1, 'department': 'Production', 'job': 'Casting', 'credit_id': '542e7e69c3a36859de001fef', 'id': 3275}, {'name': 'Jeff Mann', 'gender': 2, 'department': 'Art', 'job': 'Production Design', 'credit_id': '52fe431bc3a36847f803ac2b', 'id': 7233}, {'name': 'Beat Frutiger', 'gender': 0, 'department': 'Art', 'job': 'Art Direction', 'credit_id': '537f05770e0a2624b70044ae', 'id': 7235}, {'name': 'John Frazier', 'gender': 2, 'department': 'Crew', 'job': 'Special Effects', 'credit_id': '52fe431bc3a36847f803ac49', 'id': 10631}, {'name': 'Michelle Lewitt', 'gender': 0, 'department': 'Production', 'job': 'Casting', 'credit_id': '537f05410e0a2624b70044ab', 'id': 6876}, {'name': 'Ian Bryce', 'gender': 2, 'department': 'Production', 'job': 'Producer', 'credit_id': '52fe431bc3a36847f803ac13', 'id': 9987}, {'name': 'Lorenzo di Bonaventura', 'gender': 2, 'department': 'Production', 'job': 'Producer', 'credit_id': '52fe431bc3a36847f803abbb', 'id': 10952}, {'name': 'Deborah Lynn Scott', 'gender': 1, 'department': 'Costume & Make-Up', 'job': 'Costume Design', 'credit_id': '52fe431bc3a36847f803ac53', 'id': 8527}, {'name': 'Sean Haworth', 'gender': 0, 'department': 'Art', 'job': 'Art Direction', 'credit_id': '537f05930e0a2624cb00411f', 'id': 9618}, {'name': 'Kenny Bates', 'gender': 0, 'department': 'Production', 'job': 'Co-Producer', 'credit_id': '5765b0f892514107e0000408', 'id': 10118}, {'name': 'Rosemary Brandenburg', 'gender': 1, 'department': 'Art', 'job': 'Set Decoration', 'credit_id': '537f05d20e0a2624c30041f6', 'id': 13588}, {'name': 'Kevin Kavanaugh', 'gender': 0, 'department': 'Art', 'job': 'Art Direction', 'credit_id': '537f05a80e0a2624b70044b5', 'id': 15328}, {'name': 'Alex Kurtzman', 'gender': 2, 'department': 'Writing', 'job': 'Screenplay', 'credit_id': '52fe431bc3a36847f803abc7', 'id': 15345}, {'name': 'Alex Kurtzman', 'gender': 2, 'department': 'Writing', 'job': 'Story', 'credit_id': '56a00d4692514137d600341f', 'id': 15345}, {'name': 'Roberto Orci', 'gender': 2, 'department': 'Writing', 'job': 'Screenplay', 'credit_id': '52fe431bc3a36847f803abc1', 'id': 15346}, {'name': 'Roberto Orci', 'gender': 2, 'department': 'Writing', 'job': 'Story', 'credit_id': '56a00d4c92514149bc00350b', 'id': 15346}, {'name': 'Steve Jablonsky', 'gender': 2, 'department': 'Sound', 'job': 'Music', 'credit_id': '52fe431bc3a36847f803ac43', 'id': 18264}, {'name': 'Tom DeSanto', 'gender': 0, 'department': 'Production', 'job': 'Producer', 'credit_id': '52fe431bc3a36847f803abaf', 'id': 10994}, {'name': 'John Rogers', 'gender': 2, 'department': 'Writing', 'job': 'Story', 'credit_id': '56a00d34c3a36858ce00b11f', 'id': 19535}, {'name': 'Brian Goldner', 'gender': 2, 'department': 'Production', 'job': 'Executive Producer', 'credit_id': '52fe431bc3a36847f803ac19', 'id': 24308}, {'name': 'Mark Vahradian', 'gender': 0, 'department': 'Production', 'job': 'Executive Producer', 'credit_id': '52fe431bc3a36847f803ac1f', 'id': 24309}, {'name': 'Mitchell Amundsen', 'gender': 2, 'department': 'Camera', 'job': 'Director of Photography', 'credit_id': '52fe431bc3a36847f803ac25', 'id': 24310}, {'name': 'Tom Muldoon', 'gender': 2, 'department': 'Editing', 'job': 'Editor', 'credit_id': '52fe431bc3a36847f803ac3d', 'id': 24311}, {'name': 'Larry Dias', 'gender': 2, 'department': 'Art', 'job': 'Set Decoration', 'credit_id': '537f05e50e0a2624cb00412c', 'id': 21984}, {'name': 'Fran\\\\u00e7ois Audouy', 'gender': 0, 'department': 'Art', 'job': 'Art Direction', 'credit_id': '537f055f0e0a2624b40043ff', 'id': 39923}, {'name': 'Geoff Hubbard', 'gender': 0, 'department': 'Art', 'job': 'Supervising Art Director', 'credit_id': '570a86e7c3a3681d3a007dfc', 'id': 46082}, {'name': 'Allegra Clegg', 'gender': 1, 'department': 'Production', 'job': 'Co-Producer', 'credit_id': '5765b11d92514107e0000412', 'id': 60945}, {'name': 'Matthew Cohan', 'gender': 0, 'department': 'Production', 'job': 'Associate Producer', 'credit_id': '5765b139c3a3680c0100053f', 'id': 62722}, {'name': 'Anthony J. Scarano', 'gender': 0, 'department': 'Costume & Make-Up', 'job': 'Costume Supervisor', 'credit_id': '537f06460e0a2624ba003f26', 'id': 1319749}, {'name': 'Edouard F. Henriques', 'gender': 0, 'department': 'Costume & Make-Up', 'job': 'Makeup Department Head', 'credit_id': '537f06060e0a2624ba003f19', 'id': 1323090}, {'name': 'Mitchell Ray Kenney', 'gender': 0, 'department': 'Costume & Make-Up', 'job': 'Costume Supervisor', 'credit_id': '537f062b0e0a2624cb004137', 'id': 1323092}, {'name': 'Jimmy Almeida', 'gender': 0, 'department': 'Visual Effects', 'job': 'Animation', 'credit_id': '552994f69251414b79002009', 'id': 1453014}, {'name': 'Larry White', 'gender': 0, 'department': 'Visual Effects', 'job': 'Animation', 'credit_id': '55315027c3a368222d00051f', 'id': 1455541}, {'name': 'Luca Marco Paracels', 'gender': 2, 'department': 'Production', 'job': 'Associate Producer', 'credit_id': '5765b148c3a3680c890004c0', 'id': 1477203}]\n",
            "-----\n",
            "director :  Michael Bay\n",
            "-----\n"
          ]
        }
      ]
    },
    {
      "cell_type": "code",
      "source": [
        "features = [\"keywords\",\"cast\",\"genres\",\"director\"]\n",
        "df[features].isnull().sum()"
      ],
      "metadata": {
        "colab": {
          "base_uri": "https://localhost:8080/"
        },
        "id": "fdRhelLve7rI",
        "outputId": "917fb70d-7ed1-4ac4-940e-ab0e69ef71bf"
      },
      "execution_count": null,
      "outputs": [
        {
          "output_type": "execute_result",
          "data": {
            "text/plain": [
              "keywords    412\n",
              "cast         43\n",
              "genres       28\n",
              "director     30\n",
              "dtype: int64"
            ]
          },
          "metadata": {},
          "execution_count": 14
        }
      ]
    },
    {
      "cell_type": "code",
      "source": [
        "from textwrap import fill\n",
        "for feature in features:\n",
        "  df[feature] = df[feature].fillna(\"\")"
      ],
      "metadata": {
        "id": "XFxf1b9MfQm4"
      },
      "execution_count": null,
      "outputs": []
    },
    {
      "cell_type": "code",
      "source": [
        "df.isnull().sum()"
      ],
      "metadata": {
        "id": "WRc0ufpxiMEP",
        "outputId": "a8cc1997-acd2-45eb-b979-3fa868bd6b62",
        "colab": {
          "base_uri": "https://localhost:8080/"
        }
      },
      "execution_count": null,
      "outputs": [
        {
          "output_type": "execute_result",
          "data": {
            "text/plain": [
              "index                      0\n",
              "budget                     0\n",
              "genres                     0\n",
              "homepage                3091\n",
              "id                         0\n",
              "keywords                   0\n",
              "original_language          0\n",
              "original_title             0\n",
              "overview                   3\n",
              "popularity                 0\n",
              "production_companies       0\n",
              "production_countries       0\n",
              "release_date               1\n",
              "revenue                    0\n",
              "runtime                    2\n",
              "spoken_languages           0\n",
              "status                     0\n",
              "tagline                  844\n",
              "title                      0\n",
              "vote_average               0\n",
              "vote_count                 0\n",
              "cast                       0\n",
              "crew                       0\n",
              "director                   0\n",
              "dtype: int64"
            ]
          },
          "metadata": {},
          "execution_count": 18
        }
      ]
    }
  ]
}